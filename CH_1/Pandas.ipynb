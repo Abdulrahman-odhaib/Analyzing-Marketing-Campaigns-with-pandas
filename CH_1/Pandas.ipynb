{
 "cells": [
  {
   "cell_type": "markdown",
   "id": "11fdf183",
   "metadata": {},
   "source": [
    "Importing the dataset\n"
   ]
  },
  {
   "cell_type": "code",
   "execution_count": null,
   "id": "8de7545c",
   "metadata": {},
   "outputs": [],
   "source": [
    "# Import pandas into the environment\n",
    "import pandas as pd \n",
    "\n",
    "# Import marketing.csv \n",
    "marketing = pd.read_csv('marketing.csv')"
   ]
  },
  {
   "cell_type": "markdown",
   "id": "3c0e294e",
   "metadata": {},
   "source": [
    "Examining the data\n"
   ]
  },
  {
   "cell_type": "code",
   "execution_count": null,
   "id": "1b50271f",
   "metadata": {},
   "outputs": [],
   "source": [
    "# Print the first five rows of the DataFrame\n",
    "print(marketing.head(5))\n",
    "\n",
    "# Print the statistics of all columns\n",
    "print(marketing.describe())\n",
    "\n",
    "# Check column data types and non-missing values\n",
    "print(marketing.info())"
   ]
  },
  {
   "cell_type": "markdown",
   "id": "42e5a56f",
   "metadata": {},
   "source": [
    "Updating the data type of a column\n"
   ]
  },
  {
   "cell_type": "code",
   "execution_count": null,
   "id": "25d0c693",
   "metadata": {},
   "outputs": [],
   "source": [
    "# Check the data type of is_retained\n",
    "print(marketing['is_retained'].dtype)\n",
    "\n",
    "# Convert is_retained to a boolean\n",
    "marketing['is_retained'] = marketing['is_retained'].astype('bool')\n",
    "\n",
    "# Check the data type of is_retained, again\n",
    "print(marketing['is_retained'].dtype)\n"
   ]
  },
  {
   "cell_type": "markdown",
   "id": "6c80f96a",
   "metadata": {},
   "source": [
    "Adding new columns\n"
   ]
  },
  {
   "cell_type": "code",
   "execution_count": null,
   "id": "7ae8ebe5",
   "metadata": {},
   "outputs": [],
   "source": [
    "# Mapping for channels\n",
    "channel_dict = {\"House Ads\": 1, \"Instagram\": 2, \n",
    "                \"Facebook\": 3, \"Email\": 4, \"Push\": 5}\n",
    "\n",
    "# Map the channel to a channel code\n",
    "marketing['channel_code'] = marketing['subscribing_channel'].map(channel_dict)\n",
    "\n",
    "# Mapping for channels\n",
    "channel_dict = {\"House Ads\": 1, \"Instagram\": 2, \n",
    "                \"Facebook\": 3, \"Email\": 4, \"Push\": 5}\n",
    "\n",
    "# Map the channel to a channel code\n",
    "marketing['channel_code'] = marketing['subscribing_channel'].map(channel_dict)\n",
    "\n",
    "# Import numpy\n",
    "import numpy as np\n",
    "\n",
    "# Add the new column is_correct_lang using numpy\n",
    "marketing['is_correct_lang'] = np.where(marketing['language_preferred'] == marketing['language_displayed'], 'Yes', 'No')\n"
   ]
  },
  {
   "cell_type": "markdown",
   "id": "4378f9f4",
   "metadata": {},
   "source": [
    "Date columns\n"
   ]
  },
  {
   "cell_type": "code",
   "execution_count": null,
   "id": "1ee59505",
   "metadata": {},
   "outputs": [],
   "source": [
    "# Import pandas into the environment\n",
    "import pandas as pd\n",
    "\n",
    "# Import marketing.csv with date columns\n",
    "marketing = pd.read_csv('marketing.csv', parse_dates=['date_served', 'date_subscribed', 'date_canceled'])\n",
    "\n",
    "# Add a DoW column\n",
    "marketing['DoW'] = marketing['date_subscribed'].dt.dayofweek\n",
    "\n"
   ]
  },
  {
   "cell_type": "markdown",
   "id": "50474d4e",
   "metadata": {},
   "source": [
    "Daily marketing reach by channel\n"
   ]
  },
  {
   "cell_type": "code",
   "execution_count": null,
   "id": "3bfab040",
   "metadata": {},
   "outputs": [],
   "source": [
    "# Group by date_served and count number of unique user_id's\n",
    "daily_users = marketing.groupby(['date_served'])['user_id'].nunique()\n",
    "\n",
    "# Print head of daily_users\n",
    "print(daily_users.head())\n"
   ]
  },
  {
   "cell_type": "markdown",
   "id": "738e68f6",
   "metadata": {},
   "source": [
    "Visualizing daily marketing reach\n"
   ]
  },
  {
   "cell_type": "code",
   "execution_count": null,
   "id": "148a8af7",
   "metadata": {},
   "outputs": [],
   "source": []
  }
 ],
 "metadata": {
  "kernelspec": {
   "display_name": "Python 3 (ipykernel)",
   "language": "python",
   "name": "python3"
  },
  "language_info": {
   "codemirror_mode": {
    "name": "ipython",
    "version": 3
   },
   "file_extension": ".py",
   "mimetype": "text/x-python",
   "name": "python",
   "nbconvert_exporter": "python",
   "pygments_lexer": "ipython3",
   "version": "3.11.5"
  }
 },
 "nbformat": 4,
 "nbformat_minor": 5
}
