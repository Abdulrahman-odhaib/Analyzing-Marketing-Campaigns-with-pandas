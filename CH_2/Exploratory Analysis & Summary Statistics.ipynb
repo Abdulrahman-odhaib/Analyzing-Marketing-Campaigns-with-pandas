{
 "cells": [
  {
   "cell_type": "markdown",
   "id": "e56304b0",
   "metadata": {},
   "source": [
    "Calculating conversion rate\n"
   ]
  },
  {
   "cell_type": "code",
   "execution_count": null,
   "id": "9ba467e1",
   "metadata": {},
   "outputs": [],
   "source": [
    "# Calculate the number of people we marketed to\n",
    "total = marketing['user_id'].nunique()\n",
    "\n",
    "# Calculate the number of people who subscribed\n",
    "subscribers = marketing[marketing['converted']]['user_id'].nunique()\n",
    "\n",
    "# Calculate the conversion rate\n",
    "conversion_rate = subscribers / total\n",
    "\n",
    "# Print the conversion rate (rounded to two decimal places)\n",
    "print(round(conversion_rate * 100, 2), \"%\")\n"
   ]
  },
  {
   "cell_type": "markdown",
   "id": "c173c148",
   "metadata": {},
   "source": [
    "Calculating retention rate\n"
   ]
  },
  {
   "cell_type": "code",
   "execution_count": null,
   "id": "24d8ae4a",
   "metadata": {},
   "outputs": [],
   "source": [
    "# Calculate the number of subscribers\n",
    "total_subscribers = marketing[marketing['converted']]['user_id'].nunique()\n",
    "\n",
    "# Calculate the number of people who remained subscribed\n",
    "retained = marketing[marketing['is_retained']]['user_id'].nunique()\n",
    "\n",
    "# Calculate the retention rate\n",
    "retention_rate = retained / total_subscribers\n",
    "\n",
    "# Print the retention rate (rounded to two decimal places)\n",
    "print(round(retention_rate * 100, 2), \"%\")\n"
   ]
  },
  {
   "cell_type": "markdown",
   "id": "0f413124",
   "metadata": {},
   "source": [
    "Comparing language conversion rate (I)\n"
   ]
  },
  {
   "cell_type": "code",
   "execution_count": null,
   "id": "afeeaba8",
   "metadata": {},
   "outputs": [],
   "source": [
    "# Isolate english speakers\n",
    "english_speakers = marketing[marketing['language_displayed'] == 'English']\n",
    "\n",
    "# Calculate the total number of english speaking users\n",
    "total = english_speakers['user_id'].nunique()\n",
    "\n",
    "# Calculate the number of english speakers who converted\n",
    "subscribers = english_speakers[english_speakers['converted'] == True]\\\n",
    "                            ['user_id'].nunique()\n",
    "\n",
    "# Calculate conversion rate\n",
    "conversion_rate = subscribers/total\n",
    "print('English speaker conversion rate:',  round(conversion_rate*100,2), '%')"
   ]
  },
  {
   "cell_type": "markdown",
   "id": "bd651abf",
   "metadata": {},
   "source": [
    "Comparing language conversion rate (II)\n"
   ]
  },
  {
   "cell_type": "code",
   "execution_count": null,
   "id": "775c7f11",
   "metadata": {},
   "outputs": [],
   "source": [
    "# Group by language_displayed and count unique users\n",
    "total = marketing.groupby('language_displayed')['user_id'].nunique()\n",
    "\n",
    "# Group by language_displayed and count unique conversions\n",
    "subscribers = marketing[marketing['converted'] == 1].groupby('language_displayed')['user_id'].nunique()\n",
    "\n",
    "# Calculate the conversion rate for all languages\n",
    "language_conversion_rate = subscribers / total\n",
    "print(language_conversion_rate)\n"
   ]
  },
  {
   "cell_type": "markdown",
   "id": "29d911aa",
   "metadata": {},
   "source": [
    "Aggregating by date\n",
    " "
   ]
  },
  {
   "cell_type": "code",
   "execution_count": null,
   "id": "07365ca8",
   "metadata": {},
   "outputs": [],
   "source": [
    "# Group by date_served and count unique users\n",
    "total = marketing.groupby('date_served')['user_id'].nunique()\n",
    "\n",
    "# Group by date_served and count unique converted users\n",
    "subscribers = marketing[marketing['converted'] == 1].groupby('date_served')['user_id'].nunique()\n",
    "\n",
    "# Calculate the conversion rate per day\n",
    "daily_conversion_rate = subscribers / total\n",
    "print(daily_conversion_rate)\n"
   ]
  },
  {
   "cell_type": "markdown",
   "id": "7ffb4c15",
   "metadata": {},
   "source": [
    "Visualize conversion rate by language\n"
   ]
  },
  {
   "cell_type": "code",
   "execution_count": null,
   "id": "3d81107b",
   "metadata": {},
   "outputs": [],
   "source": [
    "# Import necessary libraries\n",
    "import matplotlib.pyplot as plt\n",
    "\n",
    "# Create a bar chart using language_conversion_rate DataFrame\n",
    "language_conversion_rate.plot(kind='bar')\n",
    "\n",
    "# Add a title and x and y-axis labels\n",
    "plt.title('Conversion rate by language\\n', size=16)\n",
    "plt.xlabel('Language', size=14)\n",
    "plt.ylabel('Conversion rate (%)', size=14)\n",
    "\n",
    "# Display the plot\n",
    "plt.show()\n"
   ]
  },
  {
   "cell_type": "markdown",
   "id": "2871fbe5",
   "metadata": {},
   "source": [
    "Creating daily conversion rate DataFrame\n"
   ]
  },
  {
   "cell_type": "code",
   "execution_count": null,
   "id": "f9cfb4dc",
   "metadata": {},
   "outputs": [],
   "source": [
    "# Group by date_served and count unique users\n",
    "total = marketing.groupby(['date_served'])['user_id']\\\n",
    "                 .nunique()\n",
    "\n",
    "# Select only the rows where converted equals True\n",
    "converted_users = marketing[marketing['converted'] == True]\n",
    "\n",
    "# Group by date_served and calculate subscribers\n",
    "subscribers = converted_users.groupby(['date_served'])['user_id']\\\n",
    "                             .nunique()\n",
    "\n",
    "# Calculate the conversion rate for all languages\n",
    "daily_conversion_rates = subscribers / total\n"
   ]
  },
  {
   "cell_type": "markdown",
   "id": "ead62230",
   "metadata": {},
   "source": [
    "Setting up our data to visualize daily conversion\n"
   ]
  },
  {
   "cell_type": "code",
   "execution_count": null,
   "id": "7ab334e6",
   "metadata": {},
   "outputs": [],
   "source": [
    "# Reset index to turn the results into a DataFrame\n",
    "daily_conversion_rate = pd.DataFrame(daily_conversion_rates.reset_index())\n",
    "\n",
    "# Rename columns\n",
    "daily_conversion_rate.columns = ['date_served', 'conversion_rate']\n"
   ]
  },
  {
   "cell_type": "markdown",
   "id": "4ee4ea94",
   "metadata": {},
   "source": [
    "Visualize daily conversion rate\n"
   ]
  },
  {
   "cell_type": "code",
   "execution_count": null,
   "id": "78a528c9",
   "metadata": {},
   "outputs": [],
   "source": [
    "# Create a line chart using daily_conversion_rate DataFrame\n",
    "daily_conversion_rate.plot('date_subscribed', \n",
    "                           'conversion_rate')\n",
    "\n",
    "plt.title('Daily conversion rate\\n', size = 16)\n",
    "plt.ylabel('Conversion rate (%)', size = 14)\n",
    "plt.xlabel('Date', size = 14)\n",
    "\n",
    "# Set the y-axis to begin at 0\n",
    "plt.ylim(0)\n",
    "\n",
    "# Display the plot\n",
    "plt.show()"
   ]
  },
  {
   "cell_type": "markdown",
   "id": "18873403",
   "metadata": {},
   "source": [
    "Marketing channels across age groups\n"
   ]
  },
  {
   "cell_type": "code",
   "execution_count": null,
   "id": "a96283ce",
   "metadata": {},
   "outputs": [],
   "source": [
    "channel_age = marketing.groupby(['marketing_channel', 'age_group'])['user_id'].count()\n",
    "\n",
    "# Unstack channel_age and transform it into a DataFrame\n",
    "channel_age_df = pd.DataFrame(channel_age.unstack(level=1))\n",
    "\n",
    "# Plot channel_age\n",
    "channel_age_df.plot(kind='bar', stacked=True)\n",
    "plt.title('Marketing channels by age group')\n",
    "plt.xlabel('Marketing Channel')\n",
    "plt.ylabel('Users')\n",
    "\n",
    "# Add a legend to the plot\n",
    "plt.legend(labels=channel_age_df.columns.values, loc='upper right')\n",
    "\n",
    "plt.show()"
   ]
  },
  {
   "cell_type": "markdown",
   "id": "cd899106",
   "metadata": {},
   "source": [
    "Grouping and counting by multiple columns\n"
   ]
  },
  {
   "cell_type": "code",
   "execution_count": null,
   "id": "53d3b9c3",
   "metadata": {},
   "outputs": [],
   "source": [
    "# Count the subs by subscribing channel and day\n",
    "retention_total = marketing.groupby(['date_subscribed', 'subscribing_channel'])['user_id'].nunique ()\n",
    "\n",
    "# Print results\n",
    "print(retention_total.head())\n",
    "\n",
    "\n",
    "# Sum the retained subs by subscribing channel and date subscribed\n",
    "retention_subs = marketing[marketing['is_retained'] == True].groupby(['date_subscribed', 'subscribing_channel'])['user_id'].nunique()\n",
    "\n",
    "# Print results\n",
    "print(retention_subs.head())\n"
   ]
  },
  {
   "cell_type": "markdown",
   "id": "7d695d02",
   "metadata": {},
   "source": [
    "Analyzing retention rates for the campaign\n"
   ]
  },
  {
   "cell_type": "code",
   "execution_count": null,
   "id": "65db0336",
   "metadata": {},
   "outputs": [],
   "source": [
    "# Divide retained subscribers by total subscribers\n",
    "retention_rate = retention_subs / retention_total\n",
    "retention_rate_df = pd.DataFrame(retention_rate.unstack(level=1))\n",
    "\n",
    "# Plot retention rate\n",
    "retention_rate_df.plot()\n",
    "\n",
    "# Add a title, x-label, y-label, legend and display the plot\n",
    "plt.title('Retention Rate by Subscribing Channel')\n",
    "plt.xlabel('Date Subscribed')\n",
    "plt.ylabel('Retention Rate (%)')\n",
    "plt.legend(labels=retention_rate_df.columns.values, loc='upper right')\n",
    "plt.show()\n"
   ]
  }
 ],
 "metadata": {
  "kernelspec": {
   "display_name": "Python 3 (ipykernel)",
   "language": "python",
   "name": "python3"
  },
  "language_info": {
   "codemirror_mode": {
    "name": "ipython",
    "version": 3
   },
   "file_extension": ".py",
   "mimetype": "text/x-python",
   "name": "python",
   "nbconvert_exporter": "python",
   "pygments_lexer": "ipython3",
   "version": "3.11.5"
  }
 },
 "nbformat": 4,
 "nbformat_minor": 5
}
