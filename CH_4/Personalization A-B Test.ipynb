{
 "cells": [
  {
   "cell_type": "markdown",
   "id": "06bf06aa",
   "metadata": {},
   "source": [
    "Test allocation\n"
   ]
  },
  {
   "cell_type": "code",
   "execution_count": null,
   "id": "0b0008d5",
   "metadata": {},
   "outputs": [],
   "source": [
    "# Subset the DataFrame\n",
    "email = marketing[marketing['marketing_channel'] == 'Email']\n",
    "\n",
    "# Group the email DataFrame by variant \n",
    "alloc = email.groupby(['variant'])['user_id'].nunique()\n",
    "\n",
    "# Plot a bar chart of the test allocation\n",
    "alloc.plot(kind='bar')\n",
    "plt.title('Personalization test allocation')\n",
    "plt.ylabel('# participants')\n",
    "plt.show()"
   ]
  },
  {
   "cell_type": "markdown",
   "id": "125229f3",
   "metadata": {},
   "source": [
    "Comparing conversion rates\n"
   ]
  },
  {
   "cell_type": "code",
   "execution_count": null,
   "id": "23a01f4f",
   "metadata": {},
   "outputs": [],
   "source": [
    "# Group marketing by user_id and variant\n",
    "subscribers = email.groupby(['user_id', \n",
    "                             'variant'])['converted'].max()\n",
    "subscribers_df = pd.DataFrame(subscribers.unstack(level=1)) \n",
    "\n",
    "# Drop missing values from the control column\n",
    "control = subscribers_df['control'].dropna()\n",
    "\n",
    "# Drop missing values from the personalization column\n",
    "personalization = subscribers_df['personalization'].dropna()\n",
    "\n",
    "print('Control conversion rate:', np.mean(control))\n",
    "print('Personalization conversion rate:', np.mean(personalization))"
   ]
  },
  {
   "cell_type": "markdown",
   "id": "b8ca213d",
   "metadata": {},
   "source": [
    "Creating a lift function\n"
   ]
  },
  {
   "cell_type": "code",
   "execution_count": null,
   "id": "03d4e41b",
   "metadata": {},
   "outputs": [],
   "source": [
    "def lift(a,b):\n",
    "    # Calcuate the mean of a and b \n",
    "    a_mean = np.mean(a)\n",
    "    b_mean = np.mean(b)\n",
    "    \n",
    "    # Calculate the lift using a_mean and b_mean\n",
    "    lift = (b_mean-a_mean)/a_mean\n",
    "  \n",
    "    return str(round(lift*100, 2)) + '%'\n",
    "  \n",
    "# Print lift() with control and personalization as inputs\n",
    "print(lift(control, personalization))"
   ]
  },
  {
   "cell_type": "markdown",
   "id": "990b5934",
   "metadata": {},
   "source": [
    "Building an A/B test segmenting function\n"
   ]
  },
  {
   "cell_type": "code",
   "execution_count": null,
   "id": "4d0e7914",
   "metadata": {},
   "outputs": [],
   "source": [
    "def ab_segmentation(segment):\n",
    "  # Build a for loop for each segment in marketing\n",
    "  for subsegment in np.unique(marketing[segment].values):\n",
    "      print(subsegment)\n",
    "      \n",
    "      # Limit marketing to email and subsegment      \n",
    "      email = marketing[(marketing['marketing_channel'] == 'Email') & (marketing[segment] == subsegment)]\n",
    "\n",
    "      subscribers = email.groupby(['user_id', 'variant'])['converted'].max()\n",
    "      subscribers = pd.DataFrame(subscribers.unstack(level=1)) \n",
    "      control = subscribers['control'].dropna()\n",
    "      personalization = subscribers['personalization'].dropna()\n",
    "\n",
    "      print('lift:', lift(control, personalization))\n",
    "      print('t-statistic:', stats.ttest_ind(control, personalization), '\\n\\n')"
   ]
  },
  {
   "cell_type": "markdown",
   "id": "ac256172",
   "metadata": {},
   "source": [
    "Using your segmentation function\n"
   ]
  },
  {
   "cell_type": "code",
   "execution_count": null,
   "id": "6f00ae8c",
   "metadata": {},
   "outputs": [],
   "source": [
    "# Use ab_segmentation on language displayed\n",
    "ab_segmentation('language_displayed')\n",
    "\n",
    "# Use ab_segmentation on age group\n",
    "ab_segmentation('age_group')"
   ]
  },
  {
   "cell_type": "markdown",
   "id": "1a8522a4",
   "metadata": {},
   "source": []
  },
  {
   "cell_type": "code",
   "execution_count": null,
   "id": "f32863c8",
   "metadata": {},
   "outputs": [],
   "source": []
  }
 ],
 "metadata": {
  "kernelspec": {
   "display_name": "Python 3 (ipykernel)",
   "language": "python",
   "name": "python3"
  },
  "language_info": {
   "codemirror_mode": {
    "name": "ipython",
    "version": 3
   },
   "file_extension": ".py",
   "mimetype": "text/x-python",
   "name": "python",
   "nbconvert_exporter": "python",
   "pygments_lexer": "ipython3",
   "version": "3.11.5"
  }
 },
 "nbformat": 4,
 "nbformat_minor": 5
}
